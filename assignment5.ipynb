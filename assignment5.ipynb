{
  "nbformat": 4,
  "nbformat_minor": 0,
  "metadata": {
    "colab": {
      "provenance": [],
      "authorship_tag": "ABX9TyMRacozfwi9v+2dV9sQ0aeG",
      "include_colab_link": true
    },
    "kernelspec": {
      "name": "python3",
      "display_name": "Python 3"
    },
    "language_info": {
      "name": "python"
    }
  },
  "cells": [
    {
      "cell_type": "markdown",
      "metadata": {
        "id": "view-in-github",
        "colab_type": "text"
      },
      "source": [
        "<a href=\"https://colab.research.google.com/github/masa512/ece558/blob/main/assignment5.ipynb\" target=\"_parent\"><img src=\"https://colab.research.google.com/assets/colab-badge.svg\" alt=\"Open In Colab\"/></a>"
      ]
    },
    {
      "cell_type": "markdown",
      "source": [
        "#Problem 5.1"
      ],
      "metadata": {
        "id": "zl9VSvS3ObDD"
      }
    },
    {
      "cell_type": "code",
      "source": [
        "from skimage.data import shepp_logan_phantom \n",
        "from skimage.transform import resize,radon\n",
        "import matplotlib.pyplot as plt\n",
        "import numpy as np"
      ],
      "metadata": {
        "id": "TASTLTvuSQqq"
      },
      "execution_count": 1,
      "outputs": []
    },
    {
      "cell_type": "code",
      "execution_count": 2,
      "metadata": {
        "id": "ICIo86MHOS79"
      },
      "outputs": [],
      "source": [
        "# Generate Image\n",
        "N = 32 # pick whatever size\n",
        "X = resize(shepp_logan_phantom(), (N,N))"
      ]
    },
    {
      "cell_type": "code",
      "source": [
        "def projmtx(N,thetas):\n",
        "  #Initialize bj's as columns\n",
        "  B = np.diag(np.ones(N*N))\n",
        "  M = thetas.shape[0]\n",
        "  # Radon returns t by ang\n",
        "  sinos = np.array([radon(B[:,j].reshape(N,N),theta=thetas,circle=False).reshape((-1)) for j in range(N*N)]).T\n",
        "  return sinos"
      ],
      "metadata": {
        "id": "vm-4yjScaw7Z"
      },
      "execution_count": 7,
      "outputs": []
    },
    {
      "cell_type": "code",
      "source": [
        "def art(y,x_0,T):\n",
        "  x = x_0\n",
        "  for t in range(2):\n",
        "    # Lets do the forloop over j and l\n",
        "    dx = np.linalg.inv(T.T@T)@(T.T @ (y-T@x))\n",
        "    x = x + dx\n",
        "  return x"
      ],
      "metadata": {
        "id": "KUTuy2LYSVhQ"
      },
      "execution_count": 28,
      "outputs": []
    },
    {
      "cell_type": "markdown",
      "source": [
        "## PART a"
      ],
      "metadata": {
        "id": "JfqOWEgJa7wg"
      }
    },
    {
      "cell_type": "code",
      "source": [
        "# \n",
        "f,axes = plt.subplots(2,2,figsize=(5,5))\n",
        "axes = np.ravel(axes)\n",
        "\n",
        "N_thetas = [16,32,64,128]\n",
        "for i,Nt in enumerate(N_thetas):\n",
        "\n",
        "  thetas = np.linspace(0., 180., Nt, endpoint=False).reshape((-1,1))\n",
        "  x = X.reshape((-1,1))\n",
        "  T = projmtx(N,thetas)\n",
        "  y = T @ x\n",
        "\n",
        "  # ART reconstruction\n",
        "  x_0 = np.ones_like(x)\n",
        "  xr = art(y,x_0,T)\n",
        "\n",
        "  # Plot\n",
        "  axes[i].imshow(xr.reshape(N,N))\n",
        "  axes[i].set_title(f'{N}x{N} ART : {Nt} angles')\n",
        "  axes[i].axis('off')\n"
      ],
      "metadata": {
        "colab": {
          "base_uri": "https://localhost:8080/",
          "height": 373
        },
        "id": "J8siG-ySmkeY",
        "outputId": "a7fa5288-b0cf-4cba-b395-71f329a666de"
      },
      "execution_count": 33,
      "outputs": [
        {
          "output_type": "stream",
          "name": "stderr",
          "text": [
            "/usr/local/lib/python3.8/dist-packages/skimage/transform/radon_transform.py:110: VisibleDeprecationWarning: Creating an ndarray from ragged nested sequences (which is a list-or-tuple of lists-or-tuples-or ndarrays with different lengths or shapes) is deprecated. If you meant to do this, you must specify 'dtype=object' when creating the ndarray.\n",
            "  R = np.array([[cos_a, sin_a, -center * (cos_a + sin_a - 1)],\n"
          ]
        },
        {
          "output_type": "display_data",
          "data": {
            "text/plain": [
              "<Figure size 360x360 with 4 Axes>"
            ],
            "image/png": "[encoded data removed]"
          },
          "metadata": {
            "needs_background": "light"
          }
        }
      ]
    },
    {
      "cell_type": "markdown",
      "source": [
        "The reconstruction is fine as long as $N_{\\theta} <= N$ where $N$ is one dimension of square image"
      ],
      "metadata": {
        "id": "av14zMWEn4Sh"
      }
    },
    {
      "cell_type": "markdown",
      "source": [
        "## ART with positivity constraint"
      ],
      "metadata": {
        "id": "ZJLF0K2io6-8"
      }
    },
    {
      "cell_type": "code",
      "source": [
        "def art_plus(y,x_0,T):\n",
        "  x = x_0\n",
        "  for t in range(2):\n",
        "    # Lets do the forloop over j and l\n",
        "    dx = np.linalg.inv(T.T@T)@(T.T @ (y-T@x))\n",
        "    x = x + dx\n",
        "    x[x<0] = 0 # The positivity constraint!!\n",
        "  return x\n"
      ],
      "metadata": {
        "id": "ukmsqU74dJ9-"
      },
      "execution_count": 36,
      "outputs": []
    },
    {
      "cell_type": "code",
      "source": [
        "# \n",
        "f,axes = plt.subplots(2,2,figsize=(5,5))\n",
        "axes = np.ravel(axes)\n",
        "\n",
        "N_thetas = [16,32,64,128]\n",
        "for i,Nt in enumerate(N_thetas):\n",
        "\n",
        "  thetas = np.linspace(0., 180., Nt, endpoint=False).reshape((-1,1))\n",
        "  x = X.reshape((-1,1))\n",
        "  T = projmtx(N,thetas)\n",
        "  y = T @ x\n",
        "\n",
        "  # ART reconstruction\n",
        "  x_0 = np.ones_like(x)\n",
        "  xr = art_plus(y,x_0,T)\n",
        "\n",
        "  # Plot\n",
        "  axes[i].imshow(xr.reshape(N,N))\n",
        "  axes[i].set_title(f'{N}x{N} ART : {Nt} angles')\n",
        "  axes[i].axis('off')\n"
      ],
      "metadata": {
        "colab": {
          "base_uri": "https://localhost:8080/",
          "height": 373
        },
        "id": "_vvlp84cpJjv",
        "outputId": "2d230e83-1de4-40d4-a263-caeec7425d10"
      },
      "execution_count": 37,
      "outputs": [
        {
          "output_type": "stream",
          "name": "stderr",
          "text": [
            "/usr/local/lib/python3.8/dist-packages/skimage/transform/radon_transform.py:110: VisibleDeprecationWarning: Creating an ndarray from ragged nested sequences (which is a list-or-tuple of lists-or-tuples-or ndarrays with different lengths or shapes) is deprecated. If you meant to do this, you must specify 'dtype=object' when creating the ndarray.\n",
            "  R = np.array([[cos_a, sin_a, -center * (cos_a + sin_a - 1)],\n"
          ]
        },
        {
          "output_type": "display_data",
          "data": {
            "text/plain": [
              "<Figure size 360x360 with 4 Axes>"
            ],
            "image/png": "[encoded data removed]"
          },
          "metadata": {
            "needs_background": "light"
          }
        }
      ]
    },
    {
      "cell_type": "code",
      "source": [],
      "metadata": {
        "id": "lm8aHx3apNSd"
      },
      "execution_count": null,
      "outputs": []
    }
  ]
}