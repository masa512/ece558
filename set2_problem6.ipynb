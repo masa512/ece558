{
  "nbformat": 4,
  "nbformat_minor": 0,
  "metadata": {
    "colab": {
      "provenance": [],
      "authorship_tag": "ABX9TyMjzPhxjZi4TLAqjA4Wh2tz",
      "include_colab_link": true
    },
    "kernelspec": {
      "name": "python3",
      "display_name": "Python 3"
    },
    "language_info": {
      "name": "python"
    }
  },
  "cells": [
    {
      "cell_type": "markdown",
      "metadata": {
        "id": "view-in-github",
        "colab_type": "text"
      },
      "source": [
        "<a href=\"https://colab.research.google.com/github/masa512/ece558/blob/main/set2_problem6.ipynb\" target=\"_parent\"><img src=\"https://colab.research.google.com/assets/colab-badge.svg\" alt=\"Open In Colab\"/></a>"
      ]
    },
    {
      "cell_type": "code",
      "source": [
        "import numpy as np\n",
        "import scipy.linalg\n",
        "import matplotlib.pyplot as plt\n",
        "import scipy.signal\n",
        "import math"
      ],
      "metadata": {
        "id": "jwU9e15bazPm"
      },
      "execution_count": 2,
      "outputs": []
    },
    {
      "cell_type": "markdown",
      "source": [
        "## Part A"
      ],
      "metadata": {
        "id": "N6y_OhXgX8Sk"
      }
    },
    {
      "cell_type": "code",
      "source": [
        "def lin_conv_2d(h,N1,N2,Lx1,Lx2):\n",
        "  # Pad H \n",
        "  hpad = np.pad(h,((N1-h.shape[0],0),(0,N2-h.shape[1])),constant_values=((0,0),(0,0)))\n",
        "\n",
        "  # Sample rows from backwards \n",
        "  hrows = [hpad[N1-k-1,:] for k in range(N1)]\n",
        "\n",
        "  # Toeplitz\n",
        "  tops = []\n",
        "  for k in range(len(hrows)):\n",
        "    col = hrows[k]\n",
        "    row = np.array([col[0]]+(Lx2-1)*[0])\n",
        "    tops.append(scipy.linalg.toeplitz(col,row))\n",
        "  \n",
        "  # Merge\n",
        "  tops = np.concatenate(tuple(tops),axis=0)\n",
        "  \n",
        "  C = np.zeros((N1*N2,Lx1*Lx2))\n",
        "\n",
        "  for i in range(Lx1):\n",
        "    C[:,i*Lx2:(i+1)*Lx2] = np.roll(tops,N2*i,axis=0)\n",
        "\n",
        "  return C\n",
        "\n",
        "def reshape_input(X):\n",
        "  rows = [X[i,:] for i in range(X.shape[0])]\n",
        "  rows.reverse()\n",
        "  x = np.concatenate(tuple(rows),axis=0)\n",
        "  return x\n",
        "\n",
        "def reshape_output(y,N1,N2):\n",
        "  Y = y.reshape((N1,N2))\n",
        "  rows = [Y[i,:].reshape((1,N2)) for i in range(Y.shape[0])]\n",
        "  rows.reverse()\n",
        "  Y = np.concatenate(tuple(rows),axis=0)\n",
        "  return Y"
      ],
      "metadata": {
        "id": "ljCOXhp5_HjL"
      },
      "execution_count": 122,
      "outputs": []
    },
    {
      "cell_type": "code",
      "source": [
        "\n",
        "H = np.array([[1,2],[3,4]])\n",
        "X = np.array([[1,-1,2],[1,1,1]])\n",
        "N1 = H.shape[0] + X.shape[0] - 1\n",
        "N2 = H.shape[1] + X.shape[1] - 1\n",
        "\n",
        "\n",
        "C = lin_conv_2d(H,N1,N2,X.shape[0],X.shape[1]) \n",
        "\n",
        "Y1 = reshape_output(C@reshape_input(X),N1,N2)\n",
        "Y2 = scipy.signal.convolve2d(H,X)\n",
        "\n",
        "plt.figure()\n",
        "plt.imshow(C)\n",
        "plt.title('Convolution Matrix')\n",
        "\n",
        "fig,axes = plt.subplots(2)\n",
        "axes[0].imshow(Y1)\n",
        "axes[0].set_title('Using my method')\n",
        "axes[1].imshow(Y2)\n",
        "axes[1].set_title('Using Scipy method')\n"
      ],
      "metadata": {
        "colab": {
          "base_uri": "https://localhost:8080/",
          "height": 568
        },
        "id": "BTRdcAKjcpMZ",
        "outputId": "5baa0ab4-90ee-475c-8f6e-076c59210be3"
      },
      "execution_count": 123,
      "outputs": [
        {
          "output_type": "execute_result",
          "data": {
            "text/plain": [
              "Text(0.5, 1.0, 'Using Scipy method')"
            ]
          },
          "metadata": {},
          "execution_count": 123
        },
        {
          "output_type": "display_data",
          "data": {
            "text/plain": [
              "<Figure size 432x288 with 1 Axes>"
            ],
            "image/png": "[encoded data removed]"
          },
          "metadata": {
            "needs_background": "light"
          }
        },
        {
          "output_type": "display_data",
          "data": {
            "text/plain": [
              "<Figure size 432x288 with 2 Axes>"
            ],
            "image/png": "[encoded data removed]"
          },
          "metadata": {
            "needs_background": "light"
          }
        }
      ]
    },
    {
      "cell_type": "code",
      "source": [
        "\n",
        "H = np.array([[1,2,3],[3,4,5],[1,2,3]])\n",
        "X = X = np.ones((5,5))\n",
        "N1 = H.shape[0] + X.shape[0] - 1\n",
        "N2 = H.shape[1] + X.shape[1] - 1\n",
        "\n",
        "\n",
        "C = lin_conv_2d(H,N1,N2,X.shape[0],X.shape[1]) \n",
        "\n",
        "plt.figure()\n",
        "plt.imshow(C)\n",
        "plt.title('Convolution Matrix')\n",
        "\n",
        "Y1 = reshape_output(C@reshape_input(X),N1,N2)\n",
        "Y2 = scipy.signal.convolve2d(H,X)\n",
        "fig,axes = plt.subplots(2)\n",
        "axes[0].imshow(Y1)\n",
        "axes[0].set_title('Using my method')\n",
        "axes[1].imshow(Y2)\n",
        "axes[1].set_title('Using Scipy method')"
      ],
      "metadata": {
        "id": "gd3C6JKE9Xxo",
        "outputId": "2c51ba06-ac6f-4e0b-fd57-6e4c06cf7897",
        "colab": {
          "base_uri": "https://localhost:8080/",
          "height": 568
        }
      },
      "execution_count": 124,
      "outputs": [
        {
          "output_type": "execute_result",
          "data": {
            "text/plain": [
              "Text(0.5, 1.0, 'Using Scipy method')"
            ]
          },
          "metadata": {},
          "execution_count": 124
        },
        {
          "output_type": "display_data",
          "data": {
            "text/plain": [
              "<Figure size 432x288 with 1 Axes>"
            ],
            "image/png": "[encoded data removed]"
          },
          "metadata": {
            "needs_background": "light"
          }
        },
        {
          "output_type": "display_data",
          "data": {
            "text/plain": [
              "<Figure size 432x288 with 2 Axes>"
            ],
            "image/png": "[encoded data removed]"
          },
          "metadata": {
            "needs_background": "light"
          }
        }
      ]
    },
    {
      "cell_type": "code",
      "source": [
        "\n",
        "H = np.array([[1,2,3],[3,4,5],[1,2,3]])\n",
        "X = np.ones((6,2))\n",
        "N1 = H.shape[0] + X.shape[0] - 1\n",
        "N2 = H.shape[1] + X.shape[1] - 1\n",
        "\n",
        "\n",
        "C = lin_conv_2d(H,N1,N2,X.shape[0],X.shape[1]) \n",
        "\n",
        "plt.figure()\n",
        "plt.imshow(C)\n",
        "plt.title('Convolution Matrix')\n",
        "\n",
        "Y1 = reshape_output(C@reshape_input(X),N1,N2)\n",
        "Y2 = scipy.signal.convolve2d(H,X)\n",
        "fig,axes = plt.subplots(2)\n",
        "axes[0].imshow(Y1)\n",
        "axes[0].set_title('Using my method')\n",
        "axes[1].imshow(Y2)\n",
        "axes[1].set_title('Using Scipy method')"
      ],
      "metadata": {
        "id": "eGZU6ZUN9vKr",
        "outputId": "e74b96d7-f4e5-4042-a265-0805dbe51c7c",
        "colab": {
          "base_uri": "https://localhost:8080/",
          "height": 568
        }
      },
      "execution_count": 125,
      "outputs": [
        {
          "output_type": "execute_result",
          "data": {
            "text/plain": [
              "Text(0.5, 1.0, 'Using Scipy method')"
            ]
          },
          "metadata": {},
          "execution_count": 125
        },
        {
          "output_type": "display_data",
          "data": {
            "text/plain": [
              "<Figure size 432x288 with 1 Axes>"
            ],
            "image/png": "[encoded data removed]"
          },
          "metadata": {
            "needs_background": "light"
          }
        },
        {
          "output_type": "display_data",
          "data": {
            "text/plain": [
              "<Figure size 432x288 with 2 Axes>"
            ],
            "image/png": "[encoded data removed]"
          },
          "metadata": {
            "needs_background": "light"
          }
        }
      ]
    },
    {
      "cell_type": "markdown",
      "source": [
        "## Part B"
      ],
      "metadata": {
        "id": "wvi2foK2zySY"
      }
    },
    {
      "cell_type": "code",
      "source": [
        "def cconv2(X,H,N1,N2):\n",
        "  # Pad X and H to the shape N1 by N2\n",
        "  H = np.pad(H,((0,N1-H.shape[0]),(0,N2-H.shape[1])),constant_values=((0,0),(0,0)))\n",
        "  X = np.pad(X,((0,N1-X.shape[0]),(0,N2-X.shape[1])),constant_values=((0,0),(0,0)))\n",
        "\n",
        "  # Perform DFT2 \n",
        "  fH = np.fft.fft2(H)\n",
        "  fX = np.fft.fft2(X)\n",
        "  fY = fH*fX\n",
        "\n",
        "  # Inverse FFT\n",
        "  Y = np.fft.ifft2(fY)\n",
        "\n",
        "  return np.round(np.real(Y)).astype(int)\n"
      ],
      "metadata": {
        "id": "GHRzCwLnhMrn"
      },
      "execution_count": 49,
      "outputs": []
    },
    {
      "cell_type": "code",
      "source": [
        "H = np.array([[1,2],[3,4]])\n",
        "X = np.array([[1,0,0],[1,0,0],[1,0,0]])\n",
        "Y = cconv2(X,H,4,4)\n",
        "\n",
        "fig,axes = plt.subplots(1,3)\n",
        "axes[0].imshow(X)\n",
        "axes[0].set_title('Input 2D Array')\n",
        "\n",
        "axes[1].imshow(Y)\n",
        "axes[1].set_title('Output 2D Array')\n",
        "\n",
        "Y1 = scipy.signal.convolve2d(H, X)\n",
        "\n",
        "axes[2].imshow(Y1)\n",
        "axes[2].set_title('Output Using conv 2d')"
      ],
      "metadata": {
        "id": "fHSK2Vn74qby",
        "colab": {
          "base_uri": "https://localhost:8080/",
          "height": 184
        },
        "outputId": "bf87ce5a-004f-43a2-ace7-cbc0900ccbe1"
      },
      "execution_count": 50,
      "outputs": [
        {
          "output_type": "execute_result",
          "data": {
            "text/plain": [
              "Text(0.5, 1.0, 'Output Using conv 2d')"
            ]
          },
          "metadata": {},
          "execution_count": 50
        },
        {
          "output_type": "display_data",
          "data": {
            "text/plain": [
              "<Figure size 432x288 with 3 Axes>"
            ],
            "image/png": "[encoded data removed]"
          },
          "metadata": {
            "needs_background": "light"
          }
        }
      ]
    },
    {
      "cell_type": "markdown",
      "source": [
        "## Part C"
      ],
      "metadata": {
        "id": "TgWR1xflzQ5T"
      }
    },
    {
      "cell_type": "code",
      "source": [
        "def cconvmtx2(H,xdim1,xdim2,N1,N2):\n",
        "  basis_vectors = np.diag(np.ones(xdim1*xdim2))\n",
        "\n",
        "  C = np.array([cconv2(basis_vectors[:,i].reshape((xdim1,xdim2)),H,N1,N2).reshape(-1) for i in range(xdim1*xdim2)]).T\n",
        "  return C"
      ],
      "metadata": {
        "id": "KsD0SN7CUlpM"
      },
      "execution_count": 51,
      "outputs": []
    },
    {
      "cell_type": "code",
      "source": [
        "N1 = H.shape[0]+X.shape[0]-1\n",
        "N2 = H.shape[1]+X.shape[1]-1\n",
        "\n",
        "C = cconvmtx2(H,X.shape[0],X.shape[1],N1,N2)\n",
        "x = X.reshape(-1)\n",
        "Y1 = np.reshape(C@x,(N1,N2))\n",
        "\n",
        "plt.figure()\n",
        "plt.imshow(Y1)\n",
        "plt.title('CCONVMTX2 Output')\n",
        "\n",
        "plt.figure()\n",
        "plt.imshow(C)\n",
        "plt.title('CCONV matrix')"
      ],
      "metadata": {
        "id": "yw3Ts3jb1LEn",
        "outputId": "a9a4058b-5227-4adf-834f-3bdc33240edc",
        "colab": {
          "base_uri": "https://localhost:8080/",
          "height": 568
        }
      },
      "execution_count": 52,
      "outputs": [
        {
          "output_type": "execute_result",
          "data": {
            "text/plain": [
              "Text(0.5, 1.0, 'CCONV matrix')"
            ]
          },
          "metadata": {},
          "execution_count": 52
        },
        {
          "output_type": "display_data",
          "data": {
            "text/plain": [
              "<Figure size 432x288 with 1 Axes>"
            ],
            "image/png": "[encoded data removed]"
          },
          "metadata": {
            "needs_background": "light"
          }
        },
        {
          "output_type": "display_data",
          "data": {
            "text/plain": [
              "<Figure size 432x288 with 1 Axes>"
            ],
            "image/png": "[encoded data removed]"
          },
          "metadata": {
            "needs_background": "light"
          }
        }
      ]
    },
    {
      "cell_type": "markdown",
      "source": [
        "## Part D"
      ],
      "metadata": {
        "id": "DgZmcp_KOmZh"
      }
    },
    {
      "cell_type": "code",
      "source": [
        "def eval_fft(i,j,N1,N2):\n",
        "  \n",
        "  #F = np.array([[math.e**(-1j*2*np.pi*(1/N1*i*k1 + 1/N2*j*k2)) for k2 in range(N2)] for k1 in range(N1)])\n",
        "  F = np.zeros((N1,N2))\n",
        "  F[i,j] = 1\n",
        "  F = np.fft.fft2(F)\n",
        "  return F.reshape(-1)\n",
        "\n",
        "def dtfmtx2(N1,N2):\n",
        "  F = np.array([[eval_fft(i,j,N1,N2)for i in range(N1)] for j in range(N2)])\n",
        "  F = F.reshape((N1*N2,-1))\n",
        "  print(F.shape)\n",
        "  return F\n",
        "  "
      ],
      "metadata": {
        "id": "sXe-yPJk2Rp_"
      },
      "execution_count": null,
      "outputs": []
    },
    {
      "cell_type": "code",
      "source": [
        "H = np.array([[2,-9,3],[1,-8,1],[0,0,0]])\n",
        "N1,N2 = H.shape\n",
        "\n",
        "F = dtfmtx2(N1,N2)\n",
        "\n",
        "# Vectorize H\n",
        "h = H.reshape(-1)\n",
        "fH1 = (F@h).reshape((N1,N2))\n",
        "\n",
        "# Real FFT\n",
        "fH2 = np.fft.fft2(H)\n",
        "\n",
        "fig,axes = plt.subplots(2)\n",
        "axes[0].imshow(abs(fH1).T)\n",
        "axes[0].set_title('Using My method')\n",
        "\n",
        "axes[1].imshow(abs(fH2))\n",
        "axes[1].set_title('Using NP')\n"
      ],
      "metadata": {
        "id": "qgQW7yhgTbUx",
        "outputId": "71355c70-753f-4e3c-f10f-2d9554b85e55",
        "colab": {
          "base_uri": "https://localhost:8080/",
          "height": 326
        }
      },
      "execution_count": null,
      "outputs": [
        {
          "output_type": "stream",
          "name": "stdout",
          "text": [
            "(9, 9)\n"
          ]
        },
        {
          "output_type": "execute_result",
          "data": {
            "text/plain": [
              "Text(0.5, 1.0, 'Using NP')"
            ]
          },
          "metadata": {},
          "execution_count": 342
        },
        {
          "output_type": "display_data",
          "data": {
            "text/plain": [
              "<Figure size 432x288 with 2 Axes>"
            ],
            "image/png": "[encoded data removed]"
          },
          "metadata": {
            "needs_background": "light"
          }
        }
      ]
    },
    {
      "cell_type": "code",
      "source": [],
      "metadata": {
        "id": "0bh8_A35X5JZ"
      },
      "execution_count": null,
      "outputs": []
    }
  ]
}