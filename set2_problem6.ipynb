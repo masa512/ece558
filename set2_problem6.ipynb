{
  "nbformat": 4,
  "nbformat_minor": 0,
  "metadata": {
    "colab": {
      "provenance": [],
      "authorship_tag": "ABX9TyN5pZS4MZScmupzOjFtH7oa",
      "include_colab_link": true
    },
    "kernelspec": {
      "name": "python3",
      "display_name": "Python 3"
    },
    "language_info": {
      "name": "python"
    }
  },
  "cells": [
    {
      "cell_type": "markdown",
      "metadata": {
        "id": "view-in-github",
        "colab_type": "text"
      },
      "source": [
        "<a href=\"https://colab.research.google.com/github/masa512/ece558/blob/main/set2_problem6.ipynb\" target=\"_parent\"><img src=\"https://colab.research.google.com/assets/colab-badge.svg\" alt=\"Open In Colab\"/></a>"
      ]
    },
    {
      "cell_type": "code",
      "source": [
        "import numpy as np\n",
        "import scipy.linalg\n",
        "import matplotlib.pyplot as plt\n"
      ],
      "metadata": {
        "id": "jwU9e15bazPm"
      },
      "execution_count": 33,
      "outputs": []
    },
    {
      "cell_type": "markdown",
      "source": [
        "## Part A"
      ],
      "metadata": {
        "id": "N6y_OhXgX8Sk"
      }
    },
    {
      "cell_type": "code",
      "execution_count": 22,
      "metadata": {
        "id": "Sto5F0UxX4NX"
      },
      "outputs": [],
      "source": [
        "# We can form toeplitz this way\n",
        "\n",
        "def linear_conv_mtx(h,N1,N2):\n",
        "  # Build a padded matrix h\n",
        "  h = np.pad(h,((0,N1-h.shape[0]),(0,N2-h.shape[1])),constant_values=((0,0),(0,0)))\n",
        "  # Now vectorize (column major)\n",
        "  horiz = np.reshape(h,-1,'F')\n",
        "  # Then we can form toeplitz\n",
        "  vert = np.array([horiz[0]]+(N1*N2-1)*[0])\n",
        "  H = scipy.linalg.toeplitz(c=vert,r=horiz)\n",
        "  return H"
      ]
    },
    {
      "cell_type": "code",
      "source": [
        "H = np.array([[1,2],[3,4]])\n",
        "X = np.array([[1,0,1],[1,0,1],[1,0,1]])\n",
        "C = linear_conv_mtx(H,3,3)\n",
        "\n",
        "plt.figure()\n",
        "plt.imshow(C)\n",
        "plt.title('Toeplitz Conv Matrix 2D')\n",
        "\n",
        "fig,axes = plt.subplots(1,2)\n",
        "axes[0].imshow(X)\n",
        "axes[0].set_title('Input 2D Array')\n",
        "\n",
        "axes[1].imshow((C@(np.reshape(X,-1,'F'))).reshape((X.shape[0],X.shape[1])))\n",
        "axes[1].set_title('Output 2D Array')"
      ],
      "metadata": {
        "colab": {
          "base_uri": "https://localhost:8080/",
          "height": 496
        },
        "id": "BTRdcAKjcpMZ",
        "outputId": "0c90434a-91d8-476a-aa26-ee6596db74a2"
      },
      "execution_count": 52,
      "outputs": [
        {
          "output_type": "execute_result",
          "data": {
            "text/plain": [
              "Text(0.5, 1.0, 'Output 2D Array')"
            ]
          },
          "metadata": {},
          "execution_count": 52
        },
        {
          "output_type": "display_data",
          "data": {
            "text/plain": [
              "<Figure size 432x288 with 1 Axes>"
            ],
            "image/png": "[encoded data removed]"
          },
          "metadata": {
            "needs_background": "light"
          }
        },
        {
          "output_type": "display_data",
          "data": {
            "text/plain": [
              "<Figure size 432x288 with 2 Axes>"
            ],
            "image/png": "[encoded data removed]"
          },
          "metadata": {
            "needs_background": "light"
          }
        }
      ]
    },
    {
      "cell_type": "markdown",
      "source": [
        "## Part B"
      ],
      "metadata": {
        "id": "wvi2foK2zySY"
      }
    },
    {
      "cell_type": "code",
      "source": [
        "def cconv2(X,H,N1,N2):\n",
        "  # Pad X and H to the shape N1 by N2\n",
        "  H = np.pad(H,((0,N1-H.shape[0]),(0,N2-H.shape[1])),constant_values=((0,0),(0,0)))\n",
        "  X = np.pad(X,((0,N1-X.shape[0]),(0,N2-X.shape[1])),constant_values=((0,0),(0,0)))\n",
        "\n",
        "  # Perform DFT2 \n",
        "  fH = np.fft.fft2(H)\n",
        "  fX = np.fft.fft2(X)\n",
        "  fY = fH*fX\n",
        "\n",
        "  # Inverse FFT\n",
        "  Y = np.fft.ifft2(fY)\n",
        "\n",
        "  return np.real(Y)\n"
      ],
      "metadata": {
        "id": "GHRzCwLnhMrn"
      },
      "execution_count": 53,
      "outputs": []
    },
    {
      "cell_type": "code",
      "source": [],
      "metadata": {
        "id": "fHSK2Vn74qby"
      },
      "execution_count": null,
      "outputs": []
    }
  ]
}