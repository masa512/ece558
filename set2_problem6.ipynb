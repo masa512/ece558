{
  "nbformat": 4,
  "nbformat_minor": 0,
  "metadata": {
    "colab": {
      "provenance": [],
      "authorship_tag": "ABX9TyOjl1jmjHvuU/6Ibz6myH1l",
      "include_colab_link": true
    },
    "kernelspec": {
      "name": "python3",
      "display_name": "Python 3"
    },
    "language_info": {
      "name": "python"
    }
  },
  "cells": [
    {
      "cell_type": "markdown",
      "metadata": {
        "id": "view-in-github",
        "colab_type": "text"
      },
      "source": [
        "<a href=\"https://colab.research.google.com/github/masa512/ece558/blob/main/set2_problem6.ipynb\" target=\"_parent\"><img src=\"https://colab.research.google.com/assets/colab-badge.svg\" alt=\"Open In Colab\"/></a>"
      ]
    },
    {
      "cell_type": "code",
      "source": [
        "import numpy as np\n",
        "import scipy.linalg\n",
        "import matplotlib.pyplot as plt\n",
        "import scipy.signal\n",
        "import math"
      ],
      "metadata": {
        "id": "jwU9e15bazPm"
      },
      "execution_count": 268,
      "outputs": []
    },
    {
      "cell_type": "markdown",
      "source": [
        "## Part A"
      ],
      "metadata": {
        "id": "N6y_OhXgX8Sk"
      }
    },
    {
      "cell_type": "code",
      "execution_count": 154,
      "metadata": {
        "id": "Sto5F0UxX4NX"
      },
      "outputs": [],
      "source": [
        "# We can form toeplitz this way\n",
        "\n",
        "def linear_conv_matrix(h,N,orig_h_size):\n",
        "  # Performs 1D Conv over vector (takes adv of toeplitz)\n",
        "  \"\"\"\n",
        "  Inputs: \n",
        "\n",
        "  h : (L,) Unit pulse response\n",
        "  input_size : (int) Size of the input vector\n",
        "  \"\"\"\n",
        "\n",
        "  # Evaluate output length \n",
        "  # Pad h by zeros \n",
        "  row =h \n",
        "\n",
        "  # Make col\n",
        "  input_size = h.shape[0] +1\n",
        "  col = np.pad(np.array([h[0]]),(0,h.shape[0]-orig_h_size),constant_values=(0,0))\n",
        "\n",
        "  # Generate toeplitz matrix\n",
        "\n",
        "  C = scipy.linalg.toeplitz(col,row)\n",
        "\n",
        "  return C\n",
        "\n",
        "\n",
        "def lin_conv_2d(H,N1,N2):\n",
        "  # Pad H\n",
        "  Hpad = np.pad(H,((0,N1-H.shape[0]),(0,N2-H.shape[1])),constant_values=((0,0),(0,0)))\n",
        "  # Vectorize H\n",
        "  Hvec = np.reshape(Hpad,-1,'F')\n",
        "\n",
        "  # Run a list comprehension\n",
        "  row = [linear_conv_matrix(Hvec[i*N1:(i+1)*N1],N=N1,orig_h_size=H.shape[0]) for i in range(N2)]\n",
        "  # Initiate a C array\n",
        "  ht = (Hpad.shape[0]-H.shape[0]+1)\n",
        "  wd = N1\n",
        "  C = np.zeros((N2*ht,N2*wd))\n",
        "\n",
        "  # Run a loop\n",
        "  comp = np.zeros((ht,wd))\n",
        "  for i in range(N2):\n",
        "    for j in range(N2):\n",
        "      idx = i + j\n",
        "      if idx < len(row):\n",
        "        C[ht*i:ht*(i+1),wd*idx:wd*(idx+1)] = row[j]\n",
        "      \n",
        "  return C\n",
        "\n"
      ]
    },
    {
      "cell_type": "code",
      "source": [
        "def linear_conv_matrix(h,N):\n",
        "  # Performs 1D Conv over vector (takes adv of toeplitz)\n",
        "  \"\"\"\n",
        "  Inputs: \n",
        "\n",
        "  h : (L,) Unit pulse response\n",
        "  input_size : (int) Size of the input vector\n",
        "  \"\"\"\n",
        "  # Evaluate output length \n",
        "  # Pad h by zeros \n",
        "  row = np.pad(h,((0,N-h.shape[0]),(0,N-h.shape[1])))\n",
        "  # Make col\n",
        "  col = np.pad(np.array([h[0]]),(0,N-h.shape[0]+1),constant_values=(0,0))\n",
        "  # Generate toeplitz matrix\n",
        "  C = scipy.linalg.toeplitz(col,row)\n",
        "  return C \n",
        "\n",
        "def linear_conv_2D(H,N1,N2):\n",
        "  "
      ],
      "metadata": {
        "id": "sICpftbes-cz"
      },
      "execution_count": 160,
      "outputs": []
    },
    {
      "cell_type": "code",
      "source": [
        "\n",
        "H = np.array([[1,-1],[1,-1]])\n",
        "X = np.array([[1,1,1],[1,1,1],[1,1,1]])\n",
        "N1 = H.shape[0] + X.shape[0] - 1\n",
        "N2 = H.shape[1] + X.shape[1] - 1\n",
        "\n",
        "print(N1,N2)\n",
        "\n",
        "\n",
        "Xpadded = np.pad(X,((0,N1-X.shape[0]),(0,N2-X.shape[1])),constant_values = ((0,0),(0,0)))\n",
        "C = lin_conv_2d(H,N1,N2) \n",
        "\n",
        "plt.figure()\n",
        "plt.imshow(C)\n",
        "plt.title('Toeplitz Conv Matrix 2D')"
      ],
      "metadata": {
        "colab": {
          "base_uri": "https://localhost:8080/",
          "height": 414
        },
        "id": "BTRdcAKjcpMZ",
        "outputId": "32a26f1d-d914-470b-9583-701bafc5fead"
      },
      "execution_count": 159,
      "outputs": [
        {
          "output_type": "stream",
          "name": "stdout",
          "text": [
            "4 4\n",
            "[[ 1 -1  0  0]\n",
            " [ 1 -1  0  0]\n",
            " [ 0  0  0  0]\n",
            " [ 0  0  0  0]]\n"
          ]
        },
        {
          "output_type": "execute_result",
          "data": {
            "text/plain": [
              "Text(0.5, 1.0, 'Toeplitz Conv Matrix 2D')"
            ]
          },
          "metadata": {},
          "execution_count": 159
        },
        {
          "output_type": "display_data",
          "data": {
            "text/plain": [
              "<Figure size 432x288 with 1 Axes>"
            ],
            "image/png": "[encoded data removed]"
          },
          "metadata": {
            "needs_background": "light"
          }
        }
      ]
    },
    {
      "cell_type": "code",
      "source": [
        "# Try real conv\n",
        "\n",
        "Y_real = scipy.signal.convolve2d(H, X)\n",
        "plt.figure()\n",
        "plt.imshow(Y_real[1:,:])\n",
        "plt.title('Real conv output')\n",
        "\n",
        "print(Y_real)"
      ],
      "metadata": {
        "id": "_JdcoFp6OJyD",
        "outputId": "41d72ba2-61e1-4925-8029-d86d8c8a2f45",
        "colab": {
          "base_uri": "https://localhost:8080/",
          "height": 370
        }
      },
      "execution_count": 143,
      "outputs": [
        {
          "output_type": "stream",
          "name": "stdout",
          "text": [
            "[[1 2 1 2]\n",
            " [4 6 4 6]\n",
            " [4 6 4 6]\n",
            " [3 4 3 4]]\n"
          ]
        },
        {
          "output_type": "display_data",
          "data": {
            "text/plain": [
              "<Figure size 432x288 with 1 Axes>"
            ],
            "image/png": "[encoded data removed]"
          },
          "metadata": {
            "needs_background": "light"
          }
        }
      ]
    },
    {
      "cell_type": "markdown",
      "source": [
        "## Part B"
      ],
      "metadata": {
        "id": "wvi2foK2zySY"
      }
    },
    {
      "cell_type": "code",
      "source": [
        "def cconv2(X,H,N1,N2):\n",
        "  # Pad X and H to the shape N1 by N2\n",
        "  H = np.pad(H,((0,N1-H.shape[0]),(0,N2-H.shape[1])),constant_values=((0,0),(0,0)))\n",
        "  X = np.pad(X,((0,N1-X.shape[0]),(0,N2-X.shape[1])),constant_values=((0,0),(0,0)))\n",
        "\n",
        "  # Perform DFT2 \n",
        "  fH = np.fft.fft2(H)\n",
        "  fX = np.fft.fft2(X)\n",
        "  fY = fH*fX\n",
        "\n",
        "  # Inverse FFT\n",
        "  Y = np.fft.ifft2(fY)\n",
        "\n",
        "  return np.round(np.real(Y)).astype(int)\n"
      ],
      "metadata": {
        "id": "GHRzCwLnhMrn"
      },
      "execution_count": 182,
      "outputs": []
    },
    {
      "cell_type": "code",
      "source": [
        "H = np.array([[1,2],[3,4]])\n",
        "X = np.array([[1,0,0],[1,0,0],[1,0,0]])\n",
        "Y = cconv2(X,H,4,4)\n",
        "\n",
        "fig,axes = plt.subplots(1,3)\n",
        "axes[0].imshow(X)\n",
        "axes[0].set_title('Input 2D Array')\n",
        "\n",
        "axes[1].imshow(Y)\n",
        "axes[1].set_title('Output 2D Array')\n",
        "\n",
        "Y1 = scipy.signal.convolve2d(H, X)\n",
        "\n",
        "axes[2].imshow(Y1)\n",
        "axes[2].set_title('Output Using conv 2d')"
      ],
      "metadata": {
        "id": "fHSK2Vn74qby",
        "colab": {
          "base_uri": "https://localhost:8080/",
          "height": 184
        },
        "outputId": "8e7bc17a-6029-400c-d4b8-e9b924aaf250"
      },
      "execution_count": 259,
      "outputs": [
        {
          "output_type": "execute_result",
          "data": {
            "text/plain": [
              "Text(0.5, 1.0, 'Output Using conv 2d')"
            ]
          },
          "metadata": {},
          "execution_count": 259
        },
        {
          "output_type": "display_data",
          "data": {
            "text/plain": [
              "<Figure size 432x288 with 3 Axes>"
            ],
            "image/png": "[encoded data removed]"
          },
          "metadata": {
            "needs_background": "light"
          }
        }
      ]
    },
    {
      "cell_type": "markdown",
      "source": [
        "## Part C"
      ],
      "metadata": {
        "id": "TgWR1xflzQ5T"
      }
    },
    {
      "cell_type": "code",
      "source": [
        "def cconvmtx2(H,xdim1,xdim2,N1,N2):\n",
        "  basis_vectors = np.diag(np.ones(xdim1*xdim2))\n",
        "\n",
        "  C = np.array([cconv2(basis_vectors[:,i].reshape((xdim1,xdim2)),H,N1,N2).reshape(-1) for i in range(xdim1*xdim2)]).T\n",
        "  return C"
      ],
      "metadata": {
        "id": "KsD0SN7CUlpM"
      },
      "execution_count": 261,
      "outputs": []
    },
    {
      "cell_type": "code",
      "source": [
        "N1 = H.shape[0]+X.shape[0]-1\n",
        "N2 = H.shape[1]+X.shape[1]-1\n",
        "\n",
        "C = cconvmtx2(H,X.shape[0],X.shape[1],N1,N2)\n",
        "x = X.reshape(-1)\n",
        "Y1 = np.reshape(C@x,(N1,N2))\n",
        "\n",
        "plt.figure()\n",
        "plt.imshow(Y1)\n",
        "plt.title('CCONVMTX2 Output')\n",
        "\n",
        "plt.figure()\n",
        "plt.imshow(C)\n",
        "plt.title('CCONV matrix')"
      ],
      "metadata": {
        "id": "yw3Ts3jb1LEn",
        "outputId": "f98337f8-b3fd-4d19-ca0d-922b4629f20e",
        "colab": {
          "base_uri": "https://localhost:8080/",
          "height": 568
        }
      },
      "execution_count": 267,
      "outputs": [
        {
          "output_type": "execute_result",
          "data": {
            "text/plain": [
              "Text(0.5, 1.0, 'CCONV matrix')"
            ]
          },
          "metadata": {},
          "execution_count": 267
        },
        {
          "output_type": "display_data",
          "data": {
            "text/plain": [
              "<Figure size 432x288 with 1 Axes>"
            ],
            "image/png": "[encoded data removed]"
          },
          "metadata": {
            "needs_background": "light"
          }
        },
        {
          "output_type": "display_data",
          "data": {
            "text/plain": [
              "<Figure size 432x288 with 1 Axes>"
            ],
            "image/png": "[encoded data removed]"
          },
          "metadata": {
            "needs_background": "light"
          }
        }
      ]
    },
    {
      "cell_type": "markdown",
      "source": [
        "## Part D"
      ],
      "metadata": {
        "id": "DgZmcp_KOmZh"
      }
    },
    {
      "cell_type": "code",
      "source": [
        "def eval_fft(i,j,N1,N2):\n",
        "  \n",
        "  #F = np.array([[math.e**(-1j*2*np.pi*(1/N1*i*k1 + 1/N2*j*k2)) for k2 in range(N2)] for k1 in range(N1)])\n",
        "  F = np.zeros((N1,N2))\n",
        "  F[i,j] = 1\n",
        "  F = np.fft.fft2(F)\n",
        "  return F.reshape(-1)\n",
        "\n",
        "def dtfmtx2(N1,N2):\n",
        "  F = np.array([[eval_fft(i,j,N1,N2)for i in range(N1)] for j in range(N2)])\n",
        "  F = F.reshape((N1*N2,-1))\n",
        "  print(F.shape)\n",
        "  return F\n",
        "  "
      ],
      "metadata": {
        "id": "sXe-yPJk2Rp_"
      },
      "execution_count": 330,
      "outputs": []
    },
    {
      "cell_type": "code",
      "source": [
        "H = np.array([[2,-9,3],[1,-8,1],[0,0,0]])\n",
        "N1,N2 = H.shape\n",
        "\n",
        "F = dtfmtx2(N1,N2)\n",
        "\n",
        "# Vectorize H\n",
        "h = H.reshape(-1)\n",
        "fH1 = (F@h).reshape((N1,N2))\n",
        "\n",
        "# Real FFT\n",
        "fH2 = np.fft.fft2(H)\n",
        "\n",
        "fig,axes = plt.subplots(2)\n",
        "axes[0].imshow(abs(fH1).T)\n",
        "axes[0].set_title('Using My method')\n",
        "\n",
        "axes[1].imshow(abs(fH2))\n",
        "axes[1].set_title('Using NP')\n"
      ],
      "metadata": {
        "id": "qgQW7yhgTbUx",
        "outputId": "71355c70-753f-4e3c-f10f-2d9554b85e55",
        "colab": {
          "base_uri": "https://localhost:8080/",
          "height": 326
        }
      },
      "execution_count": 342,
      "outputs": [
        {
          "output_type": "stream",
          "name": "stdout",
          "text": [
            "(9, 9)\n"
          ]
        },
        {
          "output_type": "execute_result",
          "data": {
            "text/plain": [
              "Text(0.5, 1.0, 'Using NP')"
            ]
          },
          "metadata": {},
          "execution_count": 342
        },
        {
          "output_type": "display_data",
          "data": {
            "text/plain": [
              "<Figure size 432x288 with 2 Axes>"
            ],
            "image/png": "[encoded data removed]"
          },
          "metadata": {
            "needs_background": "light"
          }
        }
      ]
    },
    {
      "cell_type": "code",
      "source": [],
      "metadata": {
        "id": "0bh8_A35X5JZ"
      },
      "execution_count": 335,
      "outputs": []
    }
  ]
}