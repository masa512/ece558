{
  "nbformat": 4,
  "nbformat_minor": 0,
  "metadata": {
    "colab": {
      "provenance": [],
      "authorship_tag": "ABX9TyN0Jbp0xDva1Kji3vudne8+",
      "include_colab_link": true
    },
    "kernelspec": {
      "name": "python3",
      "display_name": "Python 3"
    },
    "language_info": {
      "name": "python"
    }
  },
  "cells": [
    {
      "cell_type": "markdown",
      "metadata": {
        "id": "view-in-github",
        "colab_type": "text"
      },
      "source": [
        "<a href=\"https://colab.research.google.com/github/masa512/ece558/blob/main/HW6.ipynb\" target=\"_parent\"><img src=\"https://colab.research.google.com/assets/colab-badge.svg\" alt=\"Open In Colab\"/></a>"
      ]
    },
    {
      "cell_type": "code",
      "execution_count": 7,
      "metadata": {
        "id": "t-orvlMSKi_R"
      },
      "outputs": [],
      "source": [
        "import numpy as np\n",
        "import matplotlib.pyplot as plt\n",
        "from skimage.data import shepp_logan_phantom,camera\n",
        "from skimage.transform import resize\n",
        "from scipy.signal import sepfir2d, convolve\n",
        "from scipy.ndimage import shift\n",
        "N = 64 # pick whatever size\n",
        "X = resize(shepp_logan_phantom(), (N,N))"
      ]
    },
    {
      "cell_type": "markdown",
      "source": [
        "# Problem 1"
      ],
      "metadata": {
        "id": "3hJ11it8M4P-"
      }
    },
    {
      "cell_type": "markdown",
      "source": [
        "## PART A"
      ],
      "metadata": {
        "id": "LYzKmfcvM6jA"
      }
    },
    {
      "cell_type": "code",
      "source": [
        "# Downsampled\n",
        "Nccd = 4\n",
        "h = np.array((Nccd+1)*[1]) # Basically ones in each dim but sepfir2d only works under odd N so just pad 1 for now\n",
        "Y = sepfir2d(X,h,h)\n",
        "Y = Y[::Nccd,::Nccd] # Downsample"
      ],
      "metadata": {
        "id": "Ws24GJVOK1oE"
      },
      "execution_count": null,
      "outputs": []
    },
    {
      "cell_type": "code",
      "source": [
        "f,axes = plt.subplots(1,2,figsize=(5,5))\n",
        "axes[0].imshow(X)\n",
        "axes[0].set_title('Original Object')\n",
        "\n",
        "axes[1].imshow(Y)\n",
        "axes[1].set_title('CCD-Captured')"
      ],
      "metadata": {
        "colab": {
          "base_uri": "https://localhost:8080/",
          "height": 208
        },
        "id": "9S0pnhchL85a",
        "outputId": "8950d9cf-693a-43ac-b4db-48c8d05ee56c"
      },
      "execution_count": null,
      "outputs": [
        {
          "output_type": "execute_result",
          "data": {
            "text/plain": [
              "Text(0.5, 1.0, 'CCD-Captured')"
            ]
          },
          "metadata": {},
          "execution_count": 104
        },
        {
          "output_type": "display_data",
          "data": {
            "text/plain": [
              "<Figure size 360x360 with 2 Axes>"
            ],
            "image/png": "[encoded data removed]"
          },
          "metadata": {
            "needs_background": "light"
          }
        }
      ]
    },
    {
      "cell_type": "markdown",
      "source": [
        "## PART B"
      ],
      "metadata": {
        "id": "VpAXob4AOhIB"
      }
    },
    {
      "cell_type": "code",
      "source": [
        "# We will use a row major order method for the shifts we will apply\n",
        "def ccd2(X,Nccd):\n",
        "  h = np.array((Nccd+1)*[1]) # Basically ones in each dim but sepfir2d only works under odd N so just pad 1 for now\n",
        "  Y = Nccd**2*[0]\n",
        "  for dx in range(Nccd):\n",
        "    for dy in range(Nccd):\n",
        "      Y[Nccd*dy + dx] = sepfir2d(shift(X,[-dy,-dx],cval=0),h,h)[::Nccd,::Nccd].reshape(-1,)\n",
        "  \n",
        "  return np.array(Y)"
      ],
      "metadata": {
        "id": "D56rTJvPMRPm"
      },
      "execution_count": null,
      "outputs": []
    },
    {
      "cell_type": "code",
      "source": [
        "# Use ccd2 for Nccd = 4\n",
        "Nccd = 4\n",
        "Nx = X.shape[0]\n",
        "Y = ccd2(X,Nccd) # Nccd^2 by (Nx/Nccd)^2\n",
        "\n",
        "# Print some examples\n",
        "f,axes = plt.subplots(2,2,figsize=(5,5))\n",
        "a = np.ravel(axes)\n",
        "\n",
        "i = 0\n",
        "a[0].imshow(Y[0].reshape(Nx//Nccd,Nx//Nccd))\n",
        "a[0].set_title(f'dx = {i%Nccd} dy = {i//Nccd}')\n",
        "a[0].axis('off')\n",
        "i = 3\n",
        "a[1].imshow(Y[i].reshape(Nx//Nccd,Nx//Nccd))\n",
        "a[1].set_title(f'dx = {i%Nccd} dy = {i//Nccd}')\n",
        "a[1].axis('off')\n",
        "\n",
        "i = 10\n",
        "a[2].imshow(Y[i].reshape(Nx//Nccd,Nx//Nccd))\n",
        "a[2].set_title(f'dx = {i%Nccd} dy = {i//Nccd}')\n",
        "a[2].axis('off')\n",
        "i = 15\n",
        "a[3].imshow(Y[i].reshape(Nx//Nccd,Nx//Nccd))\n",
        "a[3].set_title(f'dx = {i%Nccd} dy = {i//Nccd}')\n",
        "a[3].axis('off')"
      ],
      "metadata": {
        "colab": {
          "base_uri": "https://localhost:8080/",
          "height": 336
        },
        "id": "TVxdmQSNQ1Xy",
        "outputId": "3f12c753-bfe5-4f74-d456-55b6c1cafb7f"
      },
      "execution_count": null,
      "outputs": [
        {
          "output_type": "execute_result",
          "data": {
            "text/plain": [
              "(-0.5, 15.5, 15.5, -0.5)"
            ]
          },
          "metadata": {},
          "execution_count": 106
        },
        {
          "output_type": "display_data",
          "data": {
            "text/plain": [
              "<Figure size 360x360 with 4 Axes>"
            ],
            "image/png": "[encoded data removed]"
          },
          "metadata": {
            "needs_background": "light"
          }
        }
      ]
    },
    {
      "cell_type": "markdown",
      "source": [
        "## PART C"
      ],
      "metadata": {
        "id": "QQt63oSAWGxh"
      }
    },
    {
      "cell_type": "code",
      "source": [
        "def dithermtx2(Nx,Nccd):\n",
        "  # Create set of orthogonal vectors of length Nx * Nx\n",
        "  ortho_set = np.diag(np.ones((Nx**2,)))\n",
        "\n",
        "  # Now we will make a projection of each basis onto the dither set\n",
        "  # Nx*Nx  by Nx*Nx (256 by 256)\n",
        "  C = np.zeros((Nx*Nx,Nx*Nx))\n",
        "\n",
        "  for i in range(ortho_set.shape[0]):\n",
        "    # Sample each ortho image\n",
        "    X = ortho_set[i,:].reshape(Nx,Nx)\n",
        "    # Perform the 2D FIR Operation\n",
        "    h = np.array((Nccd+1)*[1]) # Basically ones in each dim but sepfir2d only works under odd N so just pad 1 for now\n",
        "    Y = sepfir2d(X,h,h)\n",
        "    # We will reorder so that each partition of (Nx/Nccd)^2 is a particular dithered image\n",
        "    # We will partition with each offset and stack\n",
        "    Ci= [Y[k//Nccd::Nccd,k%Nccd::Nccd].reshape(-1,) for k in range(Nccd**2)]\n",
        "    Ci = np.concatenate(Ci,axis=0)\n",
        "    # Append to orthoset\n",
        "    C[:,i] = Ci\n",
        "  \n",
        "  return C"
      ],
      "metadata": {
        "id": "mORF6M4bQ_Fm"
      },
      "execution_count": null,
      "outputs": []
    },
    {
      "cell_type": "code",
      "source": [
        "# We will now test the dithermtx2 on Nx = 64, and Nccd = 4\n",
        "C = dithermtx2(64,4)"
      ],
      "metadata": {
        "id": "8OUz5KUEpPNV"
      },
      "execution_count": null,
      "outputs": []
    },
    {
      "cell_type": "markdown",
      "source": [
        "## PART D"
      ],
      "metadata": {
        "id": "JkM6E1KfzTBF"
      }
    },
    {
      "cell_type": "code",
      "source": [
        "# Reconstruction!\n",
        "# 1. Stack the Part B dither set into vectors and apply the Adjoint of C to get x\n",
        "y = Y.reshape(-1,)\n",
        "x_pred = C.T @ y\n",
        "\n",
        "plt.imshow(x_pred.reshape(Nx,Nx))"
      ],
      "metadata": {
        "colab": {
          "base_uri": "https://localhost:8080/",
          "height": 285
        },
        "id": "JXVfxrQxwkix",
        "outputId": "607f93a6-bcc8-4ce1-b85b-0f5dab823caf"
      },
      "execution_count": null,
      "outputs": [
        {
          "output_type": "execute_result",
          "data": {
            "text/plain": [
              "<matplotlib.image.AxesImage at 0x7f92d18d37c0>"
            ]
          },
          "metadata": {},
          "execution_count": 108
        },
        {
          "output_type": "display_data",
          "data": {
            "text/plain": [
              "<Figure size 432x288 with 1 Axes>"
            ],
            "image/png": "[encoded data removed]"
          },
          "metadata": {
            "needs_background": "light"
          }
        }
      ]
    },
    {
      "cell_type": "code",
      "source": [],
      "metadata": {
        "id": "h-kyeNcqy2N7"
      },
      "execution_count": null,
      "outputs": []
    },
    {
      "cell_type": "markdown",
      "source": [
        "# Problem 2"
      ],
      "metadata": {
        "id": "r8PVDzJwzand"
      }
    },
    {
      "cell_type": "markdown",
      "source": [
        "## PART C"
      ],
      "metadata": {
        "id": "Bdi5tLUHBmTf"
      }
    },
    {
      "cell_type": "code",
      "source": [
        "# convolution\n",
        "class cgconvtik():\n",
        "  def __init__(self,H,D1,D2,lmbd):\n",
        "    self.H = H\n",
        "    self.D1 = D1\n",
        "    self.D1j = np.flip(D1,axis=0)\n",
        "    self.D2 = D2\n",
        "    self.D2j = np.flip(D2,axis=1)\n",
        "    self.lmbd = lmbd\n",
        "\n",
        "  def eval_A(self,Z):\n",
        "    k1 = convolve(convolve(self.H,Z,'same'),self.H,'same')\n",
        "    k2 = convolve(self.D1,convolve(self.D1j,Z,'same'),'same') + convolve(self.D2,convolve(self.D2j,Z,'same'),'same')\n",
        "    return k1 + self.lmbd * k2\n",
        "  \n",
        "  def criterion(self,X,Xhat):\n",
        "    # Simply use MSE\n",
        "    error = np.mean(abs(X-Xhat))\n",
        "    return error\n",
        "\n",
        "  def optimize(self,X0,Y,Nt,crit):\n",
        "    X = X0\n",
        "    r = convolve(self.H,Y,'same') - self.eval_A(X)\n",
        "    p = r\n",
        "\n",
        "    for t in range(Nt):\n",
        "      d = np.dot(p,self.eval_A(p))\n",
        "      alp = np.dot(r,r)/d \n",
        "      Xn = X + alp*p\n",
        "      rn = r - alp*self.eval_A(p)\n",
        "      beta = np.dot(rn,rn)/np.dot(r,r)\n",
        "      pn = rn + beta * p\n",
        "\n",
        "      # Check convergence\n",
        "      if self.criterion() <= crit:\n",
        "        return Xn\n",
        "\n",
        "      # Else, proceed\n",
        "      X = Xn\n",
        "      r = rn\n",
        "      p = pn\n",
        "    \n",
        "    return X\n",
        "\n"
      ],
      "metadata": {
        "id": "l-hNydlfDCZ9"
      },
      "execution_count": 5,
      "outputs": []
    },
    {
      "cell_type": "markdown",
      "source": [
        "## PART D"
      ],
      "metadata": {
        "id": "kJEVmczdRzYd"
      }
    },
    {
      "cell_type": "code",
      "source": [
        "# Define Default function to return gaussian 2D kernel and define data as X\n",
        "X = resize(camera(), (256,256))\n",
        "def gauss2D(shape=(15,15),sigma=2): \n",
        "  \"\"\"\n",
        "  2D Gaussian kernel\n",
        "  \"\"\"\n",
        "  m,n = [(ss-1.)/2. for ss in shape]\n",
        "  y,x = np.ogrid[-m:m+1,-n:n+1]\n",
        "  h = np.exp( -(x*x + y*y) / (2.*sigma*sigma) ) \n",
        "  h[ h < np.finfo(h.dtype).eps*h.max() ] = 0 \n",
        "  sumh = h.sum()\n",
        "  if sumh != 0:\n",
        "    h /= sumh\n",
        "  return h\n",
        "\n",
        "# Define the kernels for D1 and D2\n",
        "def Dkernel(d1,d2):\n",
        "  # Return the proper 2D kernel from d1 (vertical) and d2 (horizontal) lists\n",
        "  D1 = np.array(d1).reshape(-1,1)\n",
        "  D2 = np.array(d2).reshape(1,-1)\n",
        "\n",
        "  return (D1,D2)\n",
        "\n",
        "# Define noise function\n",
        "def noise_up(Y,SNR):\n",
        "  # Solve for sigma using the defined SNR\n",
        "  std = (10**(-1/10*SNR)*np.var(Y))**(1/2)\n",
        "  # Genrate gaussian noise\n",
        "  N = np.rand.normal(loc=0,scale=std,size=Y.shape)\n",
        "  return N + Y\n",
        "\n",
        "\n",
        "# Define kernel\n",
        "d1 = [-1,0,1]\n",
        "d2 = [-1,0,1]\n",
        "D1,D2 = Dkernel(d1,d2)\n",
        "H = gauss2D()\n",
        "\n",
        "# Noise up the image\n",
        "Y_clean = noise_up\n"
      ],
      "metadata": {
        "id": "3QPzILPxRhAo"
      },
      "execution_count": 8,
      "outputs": []
    },
    {
      "cell_type": "code",
      "source": [],
      "metadata": {
        "id": "LxDhdRW1XfuD"
      },
      "execution_count": null,
      "outputs": []
    }
  ]
}