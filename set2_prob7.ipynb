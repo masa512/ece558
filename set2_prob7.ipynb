{
  "nbformat": 4,
  "nbformat_minor": 0,
  "metadata": {
    "colab": {
      "provenance": [],
      "authorship_tag": "ABX9TyNJnH7gzfX7UWApfPKAC4Sv",
      "include_colab_link": true
    },
    "kernelspec": {
      "name": "python3",
      "display_name": "Python 3"
    },
    "language_info": {
      "name": "python"
    }
  },
  "cells": [
    {
      "cell_type": "markdown",
      "metadata": {
        "id": "view-in-github",
        "colab_type": "text"
      },
      "source": [
        "<a href=\"https://colab.research.google.com/github/masa512/ece558/blob/main/set2_prob7.ipynb\" target=\"_parent\"><img src=\"https://colab.research.google.com/assets/colab-badge.svg\" alt=\"Open In Colab\"/></a>"
      ]
    },
    {
      "cell_type": "code",
      "execution_count": 5,
      "metadata": {
        "id": "oEpx0U4WR_8D"
      },
      "outputs": [],
      "source": [
        "import numpy as np\n",
        "import scipy.linalg\n",
        "import math\n",
        "import matplotlib.pyplot as plt"
      ]
    },
    {
      "cell_type": "markdown",
      "source": [
        "## Part a"
      ],
      "metadata": {
        "id": "VRc3GFQ7SxdY"
      }
    },
    {
      "cell_type": "code",
      "source": [
        "def linear_conv_matrix(h,input_size):\n",
        "  # Performs 1D Conv over vector (takes adv of toeplitz)\n",
        "  \"\"\"\n",
        "  Inputs: \n",
        "\n",
        "  h : (L,) Unit pulse response\n",
        "  input_size : (int) Size of the input vector\n",
        "  \"\"\"\n",
        "\n",
        "  # Evaluate output length \n",
        "\n",
        "  output_length = h.shape[0] + input_size - 1\n",
        "\n",
        "  # Pad h by zeros \n",
        "\n",
        "  col = np.pad(h,(0,output_length - h.shape[0]),constant_values=(0,0))\n",
        "\n",
        "  # Make row\n",
        "\n",
        "  row = np.pad(np.array([h[0]]),(0,input_size - 1),constant_values=(0,0))\n",
        "\n",
        "  # Generate toeplitz matrix\n",
        "\n",
        "  C = scipy.linalg.toeplitz(col,row)\n",
        "\n",
        "  return C\n"
      ],
      "metadata": {
        "id": "5J0XsDkBSu8b"
      },
      "execution_count": 2,
      "outputs": []
    },
    {
      "cell_type": "code",
      "source": [
        "# Example 1 \n",
        "h = np.array([1,1,1])\n",
        "input_size = 6\n",
        "h = linear_conv_matrix(h,input_size)\n",
        "print(h)\n",
        "plt.imshow(h)\n"
      ],
      "metadata": {
        "colab": {
          "base_uri": "https://localhost:8080/",
          "height": 412
        },
        "id": "g1iP5H9ybKnz",
        "outputId": "7c65b80d-4a19-4735-ab45-a7a50624a044"
      },
      "execution_count": 6,
      "outputs": [
        {
          "output_type": "stream",
          "name": "stdout",
          "text": [
            "[[1 0 0 0 0 0]\n",
            " [1 1 0 0 0 0]\n",
            " [1 1 1 0 0 0]\n",
            " [0 1 1 1 0 0]\n",
            " [0 0 1 1 1 0]\n",
            " [0 0 0 1 1 1]\n",
            " [0 0 0 0 1 1]\n",
            " [0 0 0 0 0 1]]\n"
          ]
        },
        {
          "output_type": "execute_result",
          "data": {
            "text/plain": [
              "<matplotlib.image.AxesImage at 0x7f9586ed7b50>"
            ]
          },
          "metadata": {},
          "execution_count": 6
        },
        {
          "output_type": "display_data",
          "data": {
            "text/plain": [
              "<Figure size 432x288 with 1 Axes>"
            ],
            "image/png": "[encoded data removed]"
          },
          "metadata": {
            "needs_background": "light"
          }
        }
      ]
    },
    {
      "cell_type": "code",
      "source": [
        "# Example 2\n",
        "h = np.array([1,2,3,4])\n",
        "input_size = 10\n",
        "\n",
        "h = linear_conv_matrix(h,input_size)\n",
        "print(h)\n",
        "plt.imshow(h)"
      ],
      "metadata": {
        "colab": {
          "base_uri": "https://localhost:8080/",
          "height": 495
        },
        "id": "q8oByxpYb1qF",
        "outputId": "fba22c72-7de2-4066-fa01-8ec03ff0964c"
      },
      "execution_count": 7,
      "outputs": [
        {
          "output_type": "stream",
          "name": "stdout",
          "text": [
            "[[1 0 0 0 0 0 0 0 0 0]\n",
            " [2 1 0 0 0 0 0 0 0 0]\n",
            " [3 2 1 0 0 0 0 0 0 0]\n",
            " [4 3 2 1 0 0 0 0 0 0]\n",
            " [0 4 3 2 1 0 0 0 0 0]\n",
            " [0 0 4 3 2 1 0 0 0 0]\n",
            " [0 0 0 4 3 2 1 0 0 0]\n",
            " [0 0 0 0 4 3 2 1 0 0]\n",
            " [0 0 0 0 0 4 3 2 1 0]\n",
            " [0 0 0 0 0 0 4 3 2 1]\n",
            " [0 0 0 0 0 0 0 4 3 2]\n",
            " [0 0 0 0 0 0 0 0 4 3]\n",
            " [0 0 0 0 0 0 0 0 0 4]]\n"
          ]
        },
        {
          "output_type": "execute_result",
          "data": {
            "text/plain": [
              "<matplotlib.image.AxesImage at 0x7f9586a28070>"
            ]
          },
          "metadata": {},
          "execution_count": 7
        },
        {
          "output_type": "display_data",
          "data": {
            "text/plain": [
              "<Figure size 432x288 with 1 Axes>"
            ],
            "image/png": "[encoded data removed]"
          },
          "metadata": {
            "needs_background": "light"
          }
        }
      ]
    },
    {
      "cell_type": "code",
      "source": [],
      "metadata": {
        "id": "G1KqeTQVry0r"
      },
      "execution_count": null,
      "outputs": []
    },
    {
      "cell_type": "markdown",
      "source": [
        "## Part b"
      ],
      "metadata": {
        "id": "2gZV34z9dJ-M"
      }
    },
    {
      "cell_type": "code",
      "source": [
        "def cconv(x,h,N):\n",
        "  # Pad either one to match the other\n",
        "\n",
        "  hpad = np.pad(h,(0,N-h.shape[0]),constant_values=(0,0))\n",
        "  xpad = np.pad(x,(0,N-x.shape[0]),constant_values=(0,0))\n",
        "\n",
        "  # Perform FFT on both x and h\n",
        "\n",
        "  X = np.fft.fft(xpad)\n",
        "  H = np.fft.fft(hpad)\n",
        "\n",
        "  Y = X*H\n",
        "\n",
        "  # IFFT\n",
        "  y = np.fft.ifft(Y)\n",
        "\n",
        "  return np.real(y)"
      ],
      "metadata": {
        "id": "LPph_9avcTXK"
      },
      "execution_count": null,
      "outputs": []
    },
    {
      "cell_type": "code",
      "source": [
        "# Example 1 \n",
        "h = np.array([1,2])\n",
        "x = np.array([1,2,3,4])\n",
        "\n",
        "print('My implementation',cconv(x,h,N=h.shape[0]+x.shape[0]-1))\n",
        "print('Real circular conv', np.convolve(h,x))"
      ],
      "metadata": {
        "colab": {
          "base_uri": "https://localhost:8080/"
        },
        "id": "YIpr3oUvgqrf",
        "outputId": "a3d52ff2-1b7a-481c-8bcb-e48eedc46637"
      },
      "execution_count": null,
      "outputs": [
        {
          "output_type": "stream",
          "name": "stdout",
          "text": [
            "My implementation [ 1.  4.  7. 10.  8.]\n",
            "Real circular conv [ 1  4  7 10  8]\n"
          ]
        }
      ]
    },
    {
      "cell_type": "code",
      "source": [
        "#Example 2\n",
        "h = np.array([1,2,3])\n",
        "x = np.array([1,1])\n",
        "\n",
        "print('My implementation',cconv(x,h,N = h.shape[0]+x.shape[0]-1))\n",
        "print('Real circular conv', np.convolve(h,x))\n"
      ],
      "metadata": {
        "colab": {
          "base_uri": "https://localhost:8080/"
        },
        "id": "dkvq2QN4g3_A",
        "outputId": "994ea47f-01b4-4526-aa3f-e047dc7aefe2"
      },
      "execution_count": null,
      "outputs": [
        {
          "output_type": "stream",
          "name": "stdout",
          "text": [
            "My implementation [1. 3. 5. 3.]\n",
            "Real circular conv [1 3 5 3]\n"
          ]
        }
      ]
    },
    {
      "cell_type": "markdown",
      "source": [
        "## Part c\n",
        "\n",
        "We can decompose vector x into weighted orthogonal unit vectors\n",
        "since convolution is a linear, the result of conv(x,v) is equal to weighted sum of conv(basis[i],h)."
      ],
      "metadata": {
        "id": "OOgCGsExnhSX"
      }
    },
    {
      "cell_type": "code",
      "source": [
        "def cconv_mtx(h,N):\n",
        "\n",
        "  basis_vectors = np.diag(np.ones(N))\n",
        "\n",
        "  C = np.array([cconv(basis_vectors[i],h,N) for i in range(N)])\n",
        "\n",
        "  return C\n",
        "\n",
        "\n",
        "\n",
        "# Testing the fnx\n",
        "h = np.array([1,1,1])\n",
        "N = 6\n",
        "\n",
        "np.round(cconv_mtx(h,N)).astype(int)\n",
        "\n"
      ],
      "metadata": {
        "colab": {
          "base_uri": "https://localhost:8080/"
        },
        "id": "KiOmqUw4neAC",
        "outputId": "ae7f7282-6f34-49e8-b579-c78867195016"
      },
      "execution_count": null,
      "outputs": [
        {
          "output_type": "execute_result",
          "data": {
            "text/plain": [
              "array([[1, 1, 1, 0, 0, 0],\n",
              "       [0, 1, 1, 1, 0, 0],\n",
              "       [0, 0, 1, 1, 1, 0],\n",
              "       [0, 0, 0, 1, 1, 1],\n",
              "       [1, 0, 0, 0, 1, 1],\n",
              "       [1, 1, 0, 0, 0, 1]])"
            ]
          },
          "metadata": {},
          "execution_count": 70
        }
      ]
    },
    {
      "cell_type": "markdown",
      "source": [
        "## Part d\n",
        "\n",
        "F be the DFT matrix "
      ],
      "metadata": {
        "id": "M7cQn-5yK-bJ"
      }
    },
    {
      "cell_type": "code",
      "source": [
        "def DFT_mtx(N):\n",
        "\n",
        "  return np.array([[math.e**(1j*2*np.pi/N*n*k) for n in range(N)] for k in range(N)])"
      ],
      "metadata": {
        "id": "eLuZ5HTQ_bSY"
      },
      "execution_count": null,
      "outputs": []
    },
    {
      "cell_type": "code",
      "source": [
        "DFT_mtx(4)"
      ],
      "metadata": {
        "colab": {
          "base_uri": "https://localhost:8080/"
        },
        "id": "OkDQe_KeK83M",
        "outputId": "4412f028-d5ad-4805-ea2d-89bb9f36a934"
      },
      "execution_count": null,
      "outputs": [
        {
          "output_type": "execute_result",
          "data": {
            "text/plain": [
              "array([[ 1.0000000e+00+0.0000000e+00j,  1.0000000e+00+0.0000000e+00j,\n",
              "         1.0000000e+00+0.0000000e+00j,  1.0000000e+00+0.0000000e+00j],\n",
              "       [ 1.0000000e+00+0.0000000e+00j,  6.1232340e-17+1.0000000e+00j,\n",
              "        -1.0000000e+00+1.2246468e-16j, -1.8369702e-16-1.0000000e+00j],\n",
              "       [ 1.0000000e+00+0.0000000e+00j, -1.0000000e+00+1.2246468e-16j,\n",
              "         1.0000000e+00-2.4492936e-16j, -1.0000000e+00+3.6739404e-16j],\n",
              "       [ 1.0000000e+00+0.0000000e+00j, -1.8369702e-16-1.0000000e+00j,\n",
              "        -1.0000000e+00+3.6739404e-16j,  5.5109106e-16+1.0000000e+00j]])"
            ]
          },
          "metadata": {},
          "execution_count": 76
        }
      ]
    },
    {
      "cell_type": "code",
      "source": [
        "# Verification of DFT method and cconv method\n",
        "h = np.array([1,2,3])\n",
        "x = np.array([1,1,1])\n",
        "\n",
        "N = h.shape[0]+x.shape[0]-1\n",
        "F = DFT_mtx(N)\n",
        "\n",
        "\n",
        "\n",
        "# DFT Method \n",
        "x_pad = np.pad(x,(0,N-x.shape[0]),constant_values=(0,0))\n",
        "h_pad = np.pad(h,(0,N-h.shape[0]),constant_values=(0,0))\n",
        "\n",
        "y_dft = np.linalg.inv(F) @ ((F @ x_pad)*(F @ h_pad))\n",
        "\n",
        "\n",
        "# CCONV Method\n",
        "\n",
        "y_cconv = cconv(x,h,N)\n",
        "\n",
        "print('DFT:',np.real(y_dft))\n",
        "print('cconv',y_cconv)\n"
      ],
      "metadata": {
        "colab": {
          "base_uri": "https://localhost:8080/"
        },
        "id": "lrHZ7jLlNwTJ",
        "outputId": "b0a0f9b3-d68d-47cb-bc5a-592bab9dd746"
      },
      "execution_count": null,
      "outputs": [
        {
          "output_type": "stream",
          "name": "stdout",
          "text": [
            "DFT: [1. 3. 6. 5. 3.]\n",
            "cconv [1. 3. 6. 5. 3.]\n"
          ]
        }
      ]
    }
  ]
}